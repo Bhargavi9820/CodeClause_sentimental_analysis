{
  "cells": [
    {
      "cell_type": "markdown",
      "metadata": {
        "id": "view-in-github",
        "colab_type": "text"
      },
      "source": [
        "<a href=\"https://colab.research.google.com/github/Bhargavi9820/CodeClause_sentimental_analysis/blob/main/Sentiment_Analysis_project.ipynb\" target=\"_parent\"><img src=\"https://colab.research.google.com/assets/colab-badge.svg\" alt=\"Open In Colab\"/></a>"
      ]
    },
    {
      "cell_type": "code",
      "execution_count": null,
      "metadata": {
        "id": "69rwo8tpOXfs"
      },
      "outputs": [],
      "source": [
        "import pandas as pd"
      ]
    },
    {
      "cell_type": "code",
      "execution_count": null,
      "metadata": {
        "id": "4LpItt_dTsgC"
      },
      "outputs": [],
      "source": [
        "from sklearn.model_selection import train_test_split\n",
        "from sklearn.feature_extraction.text import TfidfVectorizer\n",
        "from sklearn.linear_model import PassiveAggressiveClassifier\n",
        "from sklearn.metrics import accuracy_score, confusion_matrix"
      ]
    },
    {
      "cell_type": "code",
      "execution_count": null,
      "metadata": {
        "id": "84gPZAOSUPe5"
      },
      "outputs": [],
      "source": [
        "test_df = pd.read_csv('test.csv',  encoding= 'unicode_escape')"
      ]
    },
    {
      "cell_type": "code",
      "execution_count": null,
      "metadata": {
        "id": "ZJhOlyKeVCZn"
      },
      "outputs": [],
      "source": [
        "train_df = pd.read_csv('train.csv', encoding= 'unicode_escape')"
      ]
    },
    {
      "cell_type": "code",
      "execution_count": null,
      "metadata": {
        "id": "mpCbGIWQVG87"
      },
      "outputs": [],
      "source": [
        "X_train = train_df['text'].values\n",
        "y_train = train_df['sentiment'].values\n",
        "X_test = test_df['text'].values\n",
        "y_test = test_df['sentiment'].values"
      ]
    },
    {
      "cell_type": "code",
      "execution_count": null,
      "metadata": {
        "id": "z-Hj6UzEXnYZ"
      },
      "outputs": [],
      "source": [
        "# create a TF-IDF vectorizer\n",
        "tfidf_vectorizer = TfidfVectorizer(stop_words='english', max_df=0.7)"
      ]
    },
    {
      "cell_type": "code",
      "execution_count": null,
      "metadata": {
        "id": "Pmp9YSe4Xqxp"
      },
      "outputs": [],
      "source": [
        "# transform the training and testing data using the vectorizer\n",
        "tfidf_train = tfidf_vectorizer.fit_transform(X_train.astype('U'))"
      ]
    },
    {
      "cell_type": "code",
      "execution_count": null,
      "metadata": {
        "colab": {
          "background_save": true
        },
        "id": "OpJa6ZgkYKE_"
      },
      "outputs": [],
      "source": [
        "tfidf_test = tfidf_vectorizer.transform(X_test.astype('U'))"
      ]
    },
    {
      "cell_type": "code",
      "execution_count": null,
      "metadata": {
        "colab": {
          "background_save": true
        },
        "id": "MPf3NnhLYQ9O"
      },
      "outputs": [],
      "source": [
        "# create a PassiveAggressiveClassifier\n",
        "pac = PassiveAggressiveClassifier(max_iter=50)"
      ]
    },
    {
      "cell_type": "code",
      "execution_count": null,
      "metadata": {
        "id": "alcYNVsbYYng"
      },
      "outputs": [],
      "source": [
        "# predict the labels for the testing data\n",
        "y_pred = pac.predict(tfidf_test)"
      ]
    },
    {
      "cell_type": "code",
      "source": [
        "# train the classifier on the training data\n",
        "pac .fit(tfidf_train, y_train)"
      ],
      "metadata": {
        "id": "r0fRWogvgbqr"
      },
      "execution_count": null,
      "outputs": []
    },
    {
      "cell_type": "code",
      "execution_count": null,
      "metadata": {
        "colab": {
          "base_uri": "https://localhost:8080/"
        },
        "id": "5BkNMhZSYbL4",
        "outputId": "64b4e785-6827-42cf-c23a-1f4504a19cc0"
      },
      "outputs": [
        {
          "name": "stdout",
          "output_type": "stream",
          "text": [
            "Accuracy: 0.4544132917964694\n"
          ]
        }
      ],
      "source": [
        "# calculate the accuracy of the model\n",
        "accuracy = accuracy_score(y_test.astype(str), y_pred.astype(str))\n",
        "print('Accuracy:', accuracy)"
      ]
    },
    {
      "cell_type": "code",
      "execution_count": null,
      "metadata": {
        "colab": {
          "base_uri": "https://localhost:8080/"
        },
        "id": "CsG0DstRYrhZ",
        "outputId": "915221af-9cc9-4d2d-9303-bd61f2f1477b"
      },
      "outputs": [
        {
          "name": "stdout",
          "output_type": "stream",
          "text": [
            "Confusion matrix: [[   0    0 1281    0]\n",
            " [   0  618  316   67]\n",
            " [   0  322  833  275]\n",
            " [   0   86  280  737]]\n"
          ]
        }
      ],
      "source": [
        "# calculate the confusion matrix of the model\n",
        "confusion = confusion_matrix(y_test.astype(str), y_pred.astype(str))\n",
        "print('Confusion matrix:', confusion)"
      ]
    },
    {
      "cell_type": "code",
      "execution_count": null,
      "metadata": {
        "id": "MGtON4oqay9r"
      },
      "outputs": [],
      "source": [
        "import matplotlib.pyplot as plt\n",
        "import seaborn as sns\n",
        "from sklearn.metrics import confusion_matrix"
      ]
    },
    {
      "cell_type": "code",
      "execution_count": null,
      "metadata": {
        "id": "4KlrJYIia1g4"
      },
      "outputs": [],
      "source": [
        "# Generate a confusion matrix\n",
        "cm = confusion_matrix(y_test.astype(str), y_pred.astype(str))\n",
        "labels = ['negative', 'neutral', 'positive']"
      ]
    },
    {
      "cell_type": "code",
      "execution_count": null,
      "metadata": {
        "colab": {
          "base_uri": "https://localhost:8080/",
          "height": 447
        },
        "id": "pKtSlV9la74l",
        "outputId": "44c55c68-df85-415a-bfdd-a81658693e7d"
      },
      "outputs": [
        {
          "data": {
            "text/plain": [
              "<Axes: >"
            ]
          },
          "execution_count": 16,
          "metadata": {},
          "output_type": "execute_result"
        },
        {
          "data": {
            "image/png": "[encoded data removed]",
            "text/plain": [
              "<Figure size 640x480 with 2 Axes>"
            ]
          },
          "metadata": {},
          "output_type": "display_data"
        }
      ],
      "source": [
        "# Plot the confusion matrix as a heatmap\n",
        "sns.heatmap(cm, annot=True, cmap='Blues', xticklabels=labels, yticklabels=labels)"
      ]
    }
  ],
  "metadata": {
    "colab": {
      "provenance": [],
      "include_colab_link": true
    },
    "kernelspec": {
      "display_name": "Python 3",
      "name": "python3"
    },
    "language_info": {
      "name": "python"
    }
  },
  "nbformat": 4,
  "nbformat_minor": 0
}